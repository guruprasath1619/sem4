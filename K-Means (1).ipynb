{
 "cells": [
  {
   "cell_type": "markdown",
   "id": "74d16043",
   "metadata": {},
   "source": [
    "# K-means clustering"
   ]
  },
  {
   "cell_type": "markdown",
   "id": "57d0c5ad",
   "metadata": {},
   "source": [
    "# Importing Libaries"
   ]
  },
  {
   "cell_type": "code",
   "execution_count": 1,
   "id": "4f9d8b09",
   "metadata": {},
   "outputs": [],
   "source": [
    "import cv2\n",
    "import numpy as np"
   ]
  },
  {
   "cell_type": "code",
   "execution_count": 5,
   "id": "c80205af",
   "metadata": {},
   "outputs": [],
   "source": [
    "img=cv2.imread(\"C:/Users/admin/Downloads/ney.jpg\")"
   ]
  },
  {
   "cell_type": "code",
   "execution_count": 6,
   "id": "231210a6",
   "metadata": {},
   "outputs": [
    {
     "data": {
      "text/plain": [
       "array([[[20,  6,  8],\n",
       "        [20,  6,  8],\n",
       "        [22,  5,  8],\n",
       "        ...,\n",
       "        [26,  8,  7],\n",
       "        [25,  7,  6],\n",
       "        [24,  6,  5]],\n",
       "\n",
       "       [[22,  8, 10],\n",
       "        [22,  8, 10],\n",
       "        [24,  7, 10],\n",
       "        ...,\n",
       "        [24,  6,  5],\n",
       "        [25,  7,  6],\n",
       "        [25,  7,  6]],\n",
       "\n",
       "       [[24, 10, 11],\n",
       "        [24, 10, 11],\n",
       "        [26, 10, 11],\n",
       "        ...,\n",
       "        [22,  4,  3],\n",
       "        [24,  6,  5],\n",
       "        [26,  8,  7]],\n",
       "\n",
       "       ...,\n",
       "\n",
       "       [[25,  7,  6],\n",
       "        [25,  7,  6],\n",
       "        [25,  7,  6],\n",
       "        ...,\n",
       "        [25,  7,  6],\n",
       "        [25,  7,  6],\n",
       "        [24,  6,  5]],\n",
       "\n",
       "       [[25,  7,  6],\n",
       "        [25,  7,  6],\n",
       "        [25,  7,  6],\n",
       "        ...,\n",
       "        [25,  7,  6],\n",
       "        [25,  7,  6],\n",
       "        [24,  6,  5]],\n",
       "\n",
       "       [[25,  7,  6],\n",
       "        [25,  7,  6],\n",
       "        [25,  7,  6],\n",
       "        ...,\n",
       "        [25,  7,  6],\n",
       "        [25,  7,  6],\n",
       "        [24,  6,  5]]], dtype=uint8)"
      ]
     },
     "execution_count": 6,
     "metadata": {},
     "output_type": "execute_result"
    }
   ],
   "source": [
    "img"
   ]
  },
  {
   "cell_type": "markdown",
   "id": "a2d9b9ab",
   "metadata": {},
   "source": [
    "# RGB CONVERTION"
   ]
  },
  {
   "cell_type": "code",
   "execution_count": 9,
   "id": "6bad08c6",
   "metadata": {},
   "outputs": [],
   "source": [
    "imgrgb=cv2.cvtColor(img,cv2.COLOR_BGR2RGB)"
   ]
  },
  {
   "cell_type": "code",
   "execution_count": 11,
   "id": "be41835a",
   "metadata": {},
   "outputs": [
    {
     "data": {
      "text/plain": [
       "array([[ 8,  6, 20,  8],\n",
       "       [ 6, 20,  8,  5],\n",
       "       [22,  8,  5, 22],\n",
       "       ...,\n",
       "       [ 6,  7, 25,  6],\n",
       "       [ 7, 25,  6,  7],\n",
       "       [25,  5,  6, 24]], dtype=uint8)"
      ]
     },
     "execution_count": 11,
     "metadata": {},
     "output_type": "execute_result"
    }
   ],
   "source": [
    "vec = imgrgb.reshape((-2,4))\n",
    "vec"
   ]
  },
  {
   "cell_type": "code",
   "execution_count": 12,
   "id": "8438c4f3",
   "metadata": {},
   "outputs": [
    {
     "data": {
      "text/plain": [
       "array([[ 8.,  6., 20.,  8.],\n",
       "       [ 6., 20.,  8.,  5.],\n",
       "       [22.,  8.,  5., 22.],\n",
       "       ...,\n",
       "       [ 6.,  7., 25.,  6.],\n",
       "       [ 7., 25.,  6.,  7.],\n",
       "       [25.,  5.,  6., 24.]], dtype=float32)"
      ]
     },
     "execution_count": 12,
     "metadata": {},
     "output_type": "execute_result"
    }
   ],
   "source": [
    "vec = np.float32(vec)\n",
    "vec"
   ]
  },
  {
   "cell_type": "markdown",
   "id": "c014e39f",
   "metadata": {},
   "source": [
    "# iteration termination criteria"
   ]
  },
  {
   "cell_type": "code",
   "execution_count": 13,
   "id": "5ae68875",
   "metadata": {},
   "outputs": [],
   "source": [
    "criteria = (cv2.TERM_CRITERIA_EPS+cv2.TERM_CRITERIA_MAX_ITER,100,1)"
   ]
  },
  {
   "cell_type": "markdown",
   "id": "668327ee",
   "metadata": {},
   "source": [
    "# cluster condition"
   ]
  },
  {
   "cell_type": "code",
   "execution_count": 14,
   "id": "f55247ff",
   "metadata": {},
   "outputs": [],
   "source": [
    "k = 3\n",
    "attempts = 100"
   ]
  },
  {
   "cell_type": "code",
   "execution_count": 15,
   "id": "ee821892",
   "metadata": {},
   "outputs": [
    {
     "data": {
      "text/plain": [
       "array([[ 77.83708 ,  70.01858 ,  68.30726 ,  77.21762 ],\n",
       "       [163.66096 , 162.39459 , 162.8103  , 164.0475  ],\n",
       "       [ 19.057852,  21.316364,  21.9126  ,  19.015947]], dtype=float32)"
      ]
     },
     "execution_count": 15,
     "metadata": {},
     "output_type": "execute_result"
    }
   ],
   "source": [
    "compactness,label,center = cv2.kmeans(vec,k,None,criteria,attempts,cv2.KMEANS_PP_CENTERS)\n",
    "center"
   ]
  },
  {
   "cell_type": "code",
   "execution_count": 17,
   "id": "3db5d12b",
   "metadata": {},
   "outputs": [
    {
     "data": {
      "text/plain": [
       "array([[ 77,  70,  68,  77],\n",
       "       [163, 162, 162, 164],\n",
       "       [ 19,  21,  21,  19]], dtype=uint8)"
      ]
     },
     "execution_count": 17,
     "metadata": {},
     "output_type": "execute_result"
    }
   ],
   "source": [
    "center =np.uint8(center)\n",
    "center"
   ]
  },
  {
   "cell_type": "code",
   "execution_count": 20,
   "id": "85073824",
   "metadata": {},
   "outputs": [
    {
     "data": {
      "text/plain": [
       "array([[[19, 21, 21],\n",
       "        [19, 19, 21],\n",
       "        [21, 19, 19],\n",
       "        ...,\n",
       "        [21, 21, 19],\n",
       "        [19, 21, 21],\n",
       "        [19, 19, 21]],\n",
       "\n",
       "       [[21, 19, 19],\n",
       "        [21, 21, 19],\n",
       "        [19, 21, 21],\n",
       "        ...,\n",
       "        [19, 19, 21],\n",
       "        [21, 19, 19],\n",
       "        [21, 21, 19]],\n",
       "\n",
       "       [[19, 21, 21],\n",
       "        [19, 19, 21],\n",
       "        [21, 19, 19],\n",
       "        ...,\n",
       "        [21, 21, 19],\n",
       "        [19, 21, 21],\n",
       "        [19, 19, 21]],\n",
       "\n",
       "       ...,\n",
       "\n",
       "       [[21, 19, 19],\n",
       "        [21, 21, 19],\n",
       "        [19, 21, 21],\n",
       "        ...,\n",
       "        [19, 19, 21],\n",
       "        [21, 19, 19],\n",
       "        [21, 21, 19]],\n",
       "\n",
       "       [[19, 21, 21],\n",
       "        [19, 19, 21],\n",
       "        [21, 19, 19],\n",
       "        ...,\n",
       "        [21, 21, 19],\n",
       "        [19, 21, 21],\n",
       "        [19, 19, 21]],\n",
       "\n",
       "       [[21, 19, 19],\n",
       "        [21, 21, 19],\n",
       "        [19, 21, 21],\n",
       "        ...,\n",
       "        [19, 19, 21],\n",
       "        [21, 19, 19],\n",
       "        [21, 21, 19]]], dtype=uint8)"
      ]
     },
     "execution_count": 20,
     "metadata": {},
     "output_type": "execute_result"
    }
   ],
   "source": [
    "res = center[label.flatten()]\n",
    "res_img=res.reshape((imgrgb.shape))\n",
    "res_img"
   ]
  },
  {
   "cell_type": "code",
   "execution_count": 22,
   "id": "09837dd6",
   "metadata": {},
   "outputs": [],
   "source": [
    "cv2.imshow(\"img\",img)\n",
    "cv2.imshow(\"segmented\",res_img)\n",
    "cv2.waitKey(0)\n",
    "cv2.destroyAllWindows()"
   ]
  },
  {
   "cell_type": "code",
   "execution_count": 26,
   "id": "29efd18d",
   "metadata": {},
   "outputs": [],
   "source": [
    "img=cv2.imread(\"C:/Users/admin/Downloads/ney.jpg\")\n",
    "segmented_image=cv2.pyrMeanShiftFiltering(img,40,40)\n",
    "cv2.imshow(\"img\",img)\n",
    "cv2.imshow(\"segmented_image\",segmented_image)\n",
    "cv2.waitKey(0)\n",
    "cv2.destroyAllWindows()"
   ]
  },
  {
   "cell_type": "code",
   "execution_count": null,
   "id": "d5c4b5ad",
   "metadata": {},
   "outputs": [],
   "source": []
  }
 ],
 "metadata": {
  "kernelspec": {
   "display_name": "Python 3 (ipykernel)",
   "language": "python",
   "name": "python3"
  },
  "language_info": {
   "codemirror_mode": {
    "name": "ipython",
    "version": 3
   },
   "file_extension": ".py",
   "mimetype": "text/x-python",
   "name": "python",
   "nbconvert_exporter": "python",
   "pygments_lexer": "ipython3",
   "version": "3.9.7"
  }
 },
 "nbformat": 4,
 "nbformat_minor": 5
}
