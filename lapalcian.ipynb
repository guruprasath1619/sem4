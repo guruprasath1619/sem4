{
 "cells": [
  {
   "cell_type": "code",
   "execution_count": 1,
   "id": "1d224277",
   "metadata": {},
   "outputs": [],
   "source": [
    "import cv2\n",
    "import numpy as np"
   ]
  },
  {
   "cell_type": "code",
   "execution_count": 2,
   "id": "e6e5b9b6",
   "metadata": {},
   "outputs": [],
   "source": [
    "from matplotlib import pyplot as plt"
   ]
  },
  {
   "cell_type": "markdown",
   "id": "9d5ce6d1",
   "metadata": {},
   "source": [
    "# laplacian fliter"
   ]
  },
  {
   "cell_type": "code",
   "execution_count": 3,
   "id": "3740adfd",
   "metadata": {},
   "outputs": [],
   "source": [
    "img = cv2.imread('njr.jpg',0)\n",
    "lap = cv2.Laplacian(img,cv2.CV_64F,ksize=3)"
   ]
  },
  {
   "cell_type": "code",
   "execution_count": 4,
   "id": "51ed64d9",
   "metadata": {},
   "outputs": [],
   "source": [
    "cv2.imshow(\"img\",img)\n",
    "cv2.imshow(\"lap\",lap)\n",
    "cv2.waitKey(0)\n",
    "cv2.destroyAllWindows()"
   ]
  },
  {
   "cell_type": "markdown",
   "id": "917c3b6d",
   "metadata": {},
   "source": [
    "# sobel fliter"
   ]
  },
  {
   "cell_type": "code",
   "execution_count": 11,
   "id": "167f4dde",
   "metadata": {},
   "outputs": [
    {
     "data": {
      "text/plain": [
       "<function destroyAllWindows>"
      ]
     },
     "execution_count": 11,
     "metadata": {},
     "output_type": "execute_result"
    }
   ],
   "source": [
    "img = cv2.imread('njr.jpg',0)\n",
    "sobelx=cv2.Sobel(img,cv2.CV_64F,1,0,ksize=3)\n",
    "cv2.imshow('image',img)\n",
    "cv2.imshow('sobelx',sobelx)\n",
    "cv2.waitKey(0)\n",
    "cv2.destroyAllWindows"
   ]
  },
  {
   "cell_type": "code",
   "execution_count": 13,
   "id": "4a43a698",
   "metadata": {},
   "outputs": [
    {
     "data": {
      "text/plain": [
       "<function destroyAllWindows>"
      ]
     },
     "execution_count": 13,
     "metadata": {},
     "output_type": "execute_result"
    }
   ],
   "source": [
    "img = cv2.imread('njr.jpg',0)\n",
    "sobely=cv2.Sobel(img,cv2.CV_64F,0,1,ksize=3)\n",
    "sobely=np.uint8(np.absolute(sobely))\n",
    "cv2.imshow('image',img)\n",
    "cv2.imshow('sobely',sobely)\n",
    "cv2.waitKey(0)\n",
    "cv2.destroyAllWindows"
   ]
  },
  {
   "cell_type": "code",
   "execution_count": null,
   "id": "e28ed371",
   "metadata": {},
   "outputs": [],
   "source": []
  }
 ],
 "metadata": {
  "kernelspec": {
   "display_name": "Python 3 (ipykernel)",
   "language": "python",
   "name": "python3"
  },
  "language_info": {
   "codemirror_mode": {
    "name": "ipython",
    "version": 3
   },
   "file_extension": ".py",
   "mimetype": "text/x-python",
   "name": "python",
   "nbconvert_exporter": "python",
   "pygments_lexer": "ipython3",
   "version": "3.9.7"
  }
 },
 "nbformat": 4,
 "nbformat_minor": 5
}
