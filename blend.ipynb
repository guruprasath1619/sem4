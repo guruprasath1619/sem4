{
 "cells": [
  {
   "cell_type": "code",
   "execution_count": 1,
   "id": "a7d59b5c",
   "metadata": {},
   "outputs": [
    {
     "name": "stdout",
     "output_type": "stream",
     "text": [
      "Requirement already satisfied: opencv-python in c:\\programdata\\anaconda3\\lib\\site-packages (4.9.0.80)\n",
      "Requirement already satisfied: numpy>=1.19.3 in c:\\programdata\\anaconda3\\lib\\site-packages (from opencv-python) (1.20.3)\n",
      "Note: you may need to restart the kernel to use updated packages.\n"
     ]
    }
   ],
   "source": [
    "pip install opencv-python"
   ]
  },
  {
   "cell_type": "code",
   "execution_count": 2,
   "id": "5fc20eaf",
   "metadata": {},
   "outputs": [],
   "source": [
    "import cv2"
   ]
  },
  {
   "cell_type": "code",
   "execution_count": 3,
   "id": "2bbb3f7a",
   "metadata": {},
   "outputs": [],
   "source": [
    "import numpy as np"
   ]
  },
  {
   "cell_type": "code",
   "execution_count": 4,
   "id": "b0c07242",
   "metadata": {},
   "outputs": [],
   "source": [
    "im1=cv2.imread(\"C:/Users/admin/Desktop/red.png\")"
   ]
  },
  {
   "cell_type": "code",
   "execution_count": 5,
   "id": "d9c855f8",
   "metadata": {},
   "outputs": [],
   "source": [
    "im2=cv2.imread(\"C:/Users/admin/Desktop/ple.png\")"
   ]
  },
  {
   "cell_type": "code",
   "execution_count": 6,
   "id": "44746c39",
   "metadata": {},
   "outputs": [],
   "source": [
    "blend=cv2.addWeighted(im1,0.5,im2,0.5,0)"
   ]
  },
  {
   "cell_type": "code",
   "execution_count": 7,
   "id": "2d61262f",
   "metadata": {},
   "outputs": [],
   "source": [
    "cv2.imshow(\"red\",im1)\n",
    "cv2.imshow(\"ple\",im2)\n",
    "cv2.imshow(\"blend\",blend)\n",
    "cv2.waitKey(0)\n",
    "cv2.destroyAllWindows()"
   ]
  },
  {
   "cell_type": "markdown",
   "id": "e46d97a4",
   "metadata": {},
   "source": [
    "# SUBTRACTION"
   ]
  },
  {
   "cell_type": "code",
   "execution_count": 8,
   "id": "7c3dbf6b",
   "metadata": {},
   "outputs": [],
   "source": [
    "imsub=cv2.subtract(im1,im2)"
   ]
  },
  {
   "cell_type": "code",
   "execution_count": 9,
   "id": "bfe99c8b",
   "metadata": {},
   "outputs": [],
   "source": [
    "cv2.imshow(\"sub\",imsub)\n",
    "cv2.waitKey(0)\n",
    "cv2.destroyAllWindows()"
   ]
  },
  {
   "cell_type": "code",
   "execution_count": null,
   "id": "a8d73286",
   "metadata": {},
   "outputs": [],
   "source": []
  },
  {
   "cell_type": "markdown",
   "id": "712eeecd",
   "metadata": {},
   "source": [
    "# AND OR NOT XOR"
   ]
  },
  {
   "cell_type": "code",
   "execution_count": 10,
   "id": "d1c91007",
   "metadata": {},
   "outputs": [],
   "source": [
    "And=cv2.bitwise_and(im1,im2)\n",
    "OR=cv2.bitwise_or(im1,im2)\n",
    "NOT=cv2.bitwise_not(im1,im2)\n",
    "XOR=cv2.bitwise_xor(im1,im2)"
   ]
  },
  {
   "cell_type": "code",
   "execution_count": 11,
   "id": "61a38dbe",
   "metadata": {},
   "outputs": [],
   "source": [
    "cv2.imshow(\"AND\",And)\n",
    "cv2.waitKey(0)\n",
    "cv2.destroyAllWindows()"
   ]
  },
  {
   "cell_type": "code",
   "execution_count": 12,
   "id": "b3eb7c1e",
   "metadata": {},
   "outputs": [
    {
     "data": {
      "text/plain": [
       "<function destroyAllWindows>"
      ]
     },
     "execution_count": 12,
     "metadata": {},
     "output_type": "execute_result"
    }
   ],
   "source": [
    "cv2.imshow(\"OR\",OR)\n",
    "cv2.waitKey(0)\n",
    "cv2.destroyAllWindows"
   ]
  },
  {
   "cell_type": "code",
   "execution_count": 13,
   "id": "2e7fc557",
   "metadata": {},
   "outputs": [],
   "source": [
    "cv2.imshow(\"NOT\",NOT)\n",
    "cv2.waitKey(0)\n",
    "cv2.destroyAllWindows()"
   ]
  },
  {
   "cell_type": "code",
   "execution_count": 14,
   "id": "0c1616d1",
   "metadata": {},
   "outputs": [],
   "source": [
    "cv2.imshow(\"XOR\",XOR)\n",
    "cv2.waitKey(0)\n",
    "cv2.destroyAllWindows()"
   ]
  },
  {
   "cell_type": "code",
   "execution_count": 15,
   "id": "eaee25dd",
   "metadata": {},
   "outputs": [],
   "source": [
    "nand=cv2.bitwise_not(And)\n",
    "cv2.imshow(\"nand\",nand)"
   ]
  },
  {
   "cell_type": "markdown",
   "id": "a948d435",
   "metadata": {},
   "source": [
    "# ROI- region of interest"
   ]
  },
  {
   "cell_type": "code",
   "execution_count": 19,
   "id": "d67835f0",
   "metadata": {},
   "outputs": [],
   "source": [
    "roi=im1[0:20]"
   ]
  },
  {
   "cell_type": "code",
   "execution_count": 20,
   "id": "cfa63332",
   "metadata": {},
   "outputs": [
    {
     "data": {
      "text/plain": [
       "<function destroyAllWindows>"
      ]
     },
     "execution_count": 20,
     "metadata": {},
     "output_type": "execute_result"
    }
   ],
   "source": [
    "cv2.imshow(\"\",OR)\n",
    "cv2.waitKey(0)\n",
    "cv2.destroyAllWindows"
   ]
  },
  {
   "cell_type": "code",
   "execution_count": null,
   "id": "4f203899",
   "metadata": {},
   "outputs": [],
   "source": []
  }
 ],
 "metadata": {
  "kernelspec": {
   "display_name": "Python 3 (ipykernel)",
   "language": "python",
   "name": "python3"
  },
  "language_info": {
   "codemirror_mode": {
    "name": "ipython",
    "version": 3
   },
   "file_extension": ".py",
   "mimetype": "text/x-python",
   "name": "python",
   "nbconvert_exporter": "python",
   "pygments_lexer": "ipython3",
   "version": "3.9.7"
  }
 },
 "nbformat": 4,
 "nbformat_minor": 5
}
